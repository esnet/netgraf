{
 "cells": [
  {
   "cell_type": "code",
   "execution_count": null,
   "metadata": {},
   "outputs": [],
   "source": []
  },
  {
   "cell_type": "code",
   "execution_count": 2,
   "metadata": {},
   "outputs": [
    {
     "name": "stdout",
     "output_type": "stream",
     "text": [
      "2.6.0\n"
     ]
    }
   ],
   "source": [
    "from datetime import timedelta\n",
    "import pandas as pd\n",
    "import numpy as np\n",
    "import matplotlib.pyplot as plt \n",
    "import seaborn as sns \n",
    "\n",
    "import plotly.graph_objects as go\n",
    "from plotly.subplots import make_subplots\n",
    "\n",
    "from statsmodels.tsa.vector_ar.vecm import coint_johansen\n",
    "from statsmodels.tsa.vector_ar.var_model import VAR \n",
    "# from statsmodels.tsa.stattools import adfuller\n",
    "# from statsmodels.tools.eval_measures import rmse, aic\n",
    "from sklearn.metrics import mean_squared_error\n",
    "from sklearn.preprocessing import MinMaxScaler\n",
    "\n",
    "import tensorflow as tf \n",
    "print(tf.__version__)\n",
    "\n",
    "import warnings\n",
    "warnings.simplefilter(action='ignore')"
   ]
  },
  {
   "cell_type": "code",
   "execution_count": 3,
   "metadata": {},
   "outputs": [],
   "source": [
    "%matplotlib inline\n",
    "plt.style.use('seaborn-notebook')\n",
    "plt.rcParams[\"figure.figsize\"] = (20, 6) \n",
    "sns.set(context=\"paper\", font=\"monospace\") "
   ]
  },
  {
   "cell_type": "code",
   "execution_count": 4,
   "metadata": {},
   "outputs": [
    {
     "data": {
      "text/html": [
       "<div>\n",
       "<style scoped>\n",
       "    .dataframe tbody tr th:only-of-type {\n",
       "        vertical-align: middle;\n",
       "    }\n",
       "\n",
       "    .dataframe tbody tr th {\n",
       "        vertical-align: top;\n",
       "    }\n",
       "\n",
       "    .dataframe thead th {\n",
       "        text-align: right;\n",
       "    }\n",
       "</style>\n",
       "<table border=\"1\" class=\"dataframe\">\n",
       "  <thead>\n",
       "    <tr style=\"text-align: right;\">\n",
       "      <th></th>\n",
       "      <th>SiteA</th>\n",
       "      <th>SiteB</th>\n",
       "      <th>SiteC</th>\n",
       "      <th>SiteD</th>\n",
       "      <th>SiteE</th>\n",
       "      <th>SiteF</th>\n",
       "    </tr>\n",
       "    <tr>\n",
       "      <th>Time</th>\n",
       "      <th></th>\n",
       "      <th></th>\n",
       "      <th></th>\n",
       "      <th></th>\n",
       "      <th></th>\n",
       "      <th></th>\n",
       "    </tr>\n",
       "  </thead>\n",
       "  <tbody>\n",
       "    <tr>\n",
       "      <th>2018-01-01 08:00:00</th>\n",
       "      <td>1.411093e+10</td>\n",
       "      <td>1.109243e+09</td>\n",
       "      <td>8.289831e+07</td>\n",
       "      <td>56650005.21</td>\n",
       "      <td>1.117868e+07</td>\n",
       "      <td>827420.9772</td>\n",
       "    </tr>\n",
       "    <tr>\n",
       "      <th>2018-01-01 09:00:00</th>\n",
       "      <td>1.345362e+10</td>\n",
       "      <td>1.242256e+09</td>\n",
       "      <td>4.375739e+04</td>\n",
       "      <td>49307351.26</td>\n",
       "      <td>7.070847e+06</td>\n",
       "      <td>913017.6007</td>\n",
       "    </tr>\n",
       "    <tr>\n",
       "      <th>2018-01-01 10:00:00</th>\n",
       "      <td>1.216888e+10</td>\n",
       "      <td>2.006322e+09</td>\n",
       "      <td>4.315725e+04</td>\n",
       "      <td>56843652.59</td>\n",
       "      <td>5.132826e+07</td>\n",
       "      <td>874471.3644</td>\n",
       "    </tr>\n",
       "    <tr>\n",
       "      <th>2018-01-01 11:00:00</th>\n",
       "      <td>1.123120e+10</td>\n",
       "      <td>1.073181e+09</td>\n",
       "      <td>8.277154e+07</td>\n",
       "      <td>46645240.59</td>\n",
       "      <td>5.217827e+06</td>\n",
       "      <td>837246.7783</td>\n",
       "    </tr>\n",
       "    <tr>\n",
       "      <th>2018-01-01 12:00:00</th>\n",
       "      <td>1.078085e+10</td>\n",
       "      <td>8.645069e+08</td>\n",
       "      <td>3.343548e+04</td>\n",
       "      <td>30966947.37</td>\n",
       "      <td>7.495363e+06</td>\n",
       "      <td>827143.7497</td>\n",
       "    </tr>\n",
       "  </tbody>\n",
       "</table>\n",
       "</div>"
      ],
      "text/plain": [
       "                            SiteA         SiteB         SiteC        SiteD  \\\n",
       "Time                                                                         \n",
       "2018-01-01 08:00:00  1.411093e+10  1.109243e+09  8.289831e+07  56650005.21   \n",
       "2018-01-01 09:00:00  1.345362e+10  1.242256e+09  4.375739e+04  49307351.26   \n",
       "2018-01-01 10:00:00  1.216888e+10  2.006322e+09  4.315725e+04  56843652.59   \n",
       "2018-01-01 11:00:00  1.123120e+10  1.073181e+09  8.277154e+07  46645240.59   \n",
       "2018-01-01 12:00:00  1.078085e+10  8.645069e+08  3.343548e+04  30966947.37   \n",
       "\n",
       "                            SiteE        SiteF  \n",
       "Time                                            \n",
       "2018-01-01 08:00:00  1.117868e+07  827420.9772  \n",
       "2018-01-01 09:00:00  7.070847e+06  913017.6007  \n",
       "2018-01-01 10:00:00  5.132826e+07  874471.3644  \n",
       "2018-01-01 11:00:00  5.217827e+06  837246.7783  \n",
       "2018-01-01 12:00:00  7.495363e+06  827143.7497  "
      ]
     },
     "execution_count": 4,
     "metadata": {},
     "output_type": "execute_result"
    }
   ],
   "source": [
    "df = pd.read_csv('datasets/throughput_metrics.csv', parse_dates=['Time'], index_col='Time')\n",
    "# df.reset_index(inplace=True)\n",
    "df.head() "
   ]
  },
  {
   "cell_type": "code",
   "execution_count": 5,
   "metadata": {},
   "outputs": [
    {
     "data": {
      "text/plain": [
       "(8760, 6)"
      ]
     },
     "execution_count": 5,
     "metadata": {},
     "output_type": "execute_result"
    }
   ],
   "source": [
    "df.shape "
   ]
  },
  {
   "cell_type": "code",
   "execution_count": 6,
   "metadata": {},
   "outputs": [
    {
     "data": {
      "text/plain": [
       "0"
      ]
     },
     "execution_count": 6,
     "metadata": {},
     "output_type": "execute_result"
    }
   ],
   "source": [
    "sum(df.isna().sum())"
   ]
  },
  {
   "cell_type": "code",
   "execution_count": 1,
   "metadata": {},
   "outputs": [],
   "source": [
    "# fig = make_subplots(rows=6, cols=1, subplot_titles=df.columns,\n",
    "#                     vertical_spacing=0.05)\n",
    "\n",
    "# for i, col in enumerate(df.columns):\n",
    "#     fig.add_trace(go.Scatter(x=df.index, y=df[col],  \n",
    "#                              marker = dict(size = 10, \n",
    "#                                            color = 'blue'),\n",
    "#                             textfont=dict(\n",
    "#                                 color='black',\n",
    "#                                 size=18,  \n",
    "#                                 family='Times New Roman')),\n",
    "#                 row=i+1, col=1)\n",
    "    \n",
    "# fig.update_xaxes(\n",
    "#     rangeselector=dict(\n",
    "#         buttons=list([\n",
    "#             dict(count=1, label=\"1m\", step=\"month\", stepmode=\"backward\"),\n",
    "#             dict(count=6, label=\"6m\", step=\"month\", stepmode=\"backward\"),\n",
    "#             dict(count=1, label=\"YTD\", step=\"year\", stepmode=\"todate\"),\n",
    "#             dict(count=1, label=\"1y\", step=\"year\", stepmode=\"backward\"),\n",
    "#             dict(step=\"all\")\n",
    "#         ])\n",
    "#     )\n",
    "# )\n",
    "# fig.update_layout(showlegend=False, autosize=False,\n",
    "#     width=1300,\n",
    "#     height=1500,\n",
    "#     )\n",
    "# fig.show()  "
   ]
  },
  {
   "cell_type": "code",
   "execution_count": 8,
   "metadata": {},
   "outputs": [],
   "source": [
    "# c = 1\n",
    "# fig = plt.figure(figsize=(20,15))\n",
    "# for col in df.columns:\n",
    "#     plt.subplot(3, 2, c)\n",
    "#     plt.title(f'{col}', size=15)\n",
    "#     plt.tight_layout()\n",
    "#     plt.plot(df[col])\n",
    "#     c += 1\n",
    "# plt.show() "
   ]
  },
  {
   "cell_type": "code",
   "execution_count": 9,
   "metadata": {},
   "outputs": [],
   "source": [
    "# missing value treatment\n",
    "for i in ['SiteB', 'SiteE']:\n",
    "    df[i][df[i] == 0] = df[i].mean() "
   ]
  },
  {
   "cell_type": "code",
   "execution_count": 11,
   "metadata": {},
   "outputs": [
    {
     "data": {
      "image/png": "[encoded data removed]",
      "text/plain": [
       "<Figure size 1440x432 with 2 Axes>"
      ]
     },
     "metadata": {},
     "output_type": "display_data"
    }
   ],
   "source": [
    "sns.heatmap(df.corr(), fmt='g', annot=True); "
   ]
  },
  {
   "cell_type": "code",
   "execution_count": 12,
   "metadata": {},
   "outputs": [
    {
     "name": "stdout",
     "output_type": "stream",
     "text": [
      "[0.38782114 0.16822476 0.07955193 0.04133012 0.02690916 0.00513086]\n"
     ]
    }
   ],
   "source": [
    "# checking stationarity \n",
    "cj_stat = coint_johansen(df,-1,1).eig \n",
    "print(cj_stat) "
   ]
  },
  {
   "cell_type": "markdown",
   "metadata": {},
   "source": [
    "### VAR"
   ]
  },
  {
   "cell_type": "code",
   "execution_count": 13,
   "metadata": {},
   "outputs": [
    {
     "name": "stdout",
     "output_type": "stream",
     "text": [
      "(8759, 6)\n",
      "(1, 6)\n"
     ]
    }
   ],
   "source": [
    "nobs = 1\n",
    "df_train, df_test = df[0:-nobs], df[-nobs:]\n",
    "\n",
    "# Check size\n",
    "print(df_train.shape)  \n",
    "print(df_test.shape) "
   ]
  },
  {
   "cell_type": "code",
   "execution_count": 14,
   "metadata": {},
   "outputs": [
    {
     "data": {
      "text/html": [
       "<div>\n",
       "<style scoped>\n",
       "    .dataframe tbody tr th:only-of-type {\n",
       "        vertical-align: middle;\n",
       "    }\n",
       "\n",
       "    .dataframe tbody tr th {\n",
       "        vertical-align: top;\n",
       "    }\n",
       "\n",
       "    .dataframe thead th {\n",
       "        text-align: right;\n",
       "    }\n",
       "</style>\n",
       "<table border=\"1\" class=\"dataframe\">\n",
       "  <thead>\n",
       "    <tr style=\"text-align: right;\">\n",
       "      <th></th>\n",
       "      <th>SiteA</th>\n",
       "      <th>SiteB</th>\n",
       "      <th>SiteC</th>\n",
       "      <th>SiteD</th>\n",
       "      <th>SiteE</th>\n",
       "      <th>SiteF</th>\n",
       "    </tr>\n",
       "    <tr>\n",
       "      <th>Time</th>\n",
       "      <th></th>\n",
       "      <th></th>\n",
       "      <th></th>\n",
       "      <th></th>\n",
       "      <th></th>\n",
       "      <th></th>\n",
       "    </tr>\n",
       "  </thead>\n",
       "  <tbody>\n",
       "    <tr>\n",
       "      <th>2019-01-01 07:00:00</th>\n",
       "      <td>8.675575e+09</td>\n",
       "      <td>1.228012e+10</td>\n",
       "      <td>73190.10285</td>\n",
       "      <td>56298747.51</td>\n",
       "      <td>10973382.24</td>\n",
       "      <td>907757.851</td>\n",
       "    </tr>\n",
       "  </tbody>\n",
       "</table>\n",
       "</div>"
      ],
      "text/plain": [
       "                            SiteA         SiteB        SiteC        SiteD  \\\n",
       "Time                                                                        \n",
       "2019-01-01 07:00:00  8.675575e+09  1.228012e+10  73190.10285  56298747.51   \n",
       "\n",
       "                           SiteE       SiteF  \n",
       "Time                                          \n",
       "2019-01-01 07:00:00  10973382.24  907757.851  "
      ]
     },
     "execution_count": 14,
     "metadata": {},
     "output_type": "execute_result"
    }
   ],
   "source": [
    "df_test "
   ]
  },
  {
   "cell_type": "code",
   "execution_count": 40,
   "metadata": {},
   "outputs": [],
   "source": [
    "# fit the model\n",
    "model = VAR(df_train)\n",
    "model_fit = model.fit() "
   ]
  },
  {
   "cell_type": "code",
   "execution_count": 16,
   "metadata": {},
   "outputs": [
    {
     "data": {
      "text/plain": [
       "array([[6.88469466e+09, 9.62731719e+09, 7.31901028e+04, 6.26614479e+07,\n",
       "        6.15230605e+07, 8.79444753e+05]])"
      ]
     },
     "execution_count": 16,
     "metadata": {},
     "output_type": "execute_result"
    }
   ],
   "source": [
    "# Input data for forecasting\n",
    "forecast_input = df_train.values[-nobs:]\n",
    "forecast_input "
   ]
  },
  {
   "cell_type": "code",
   "execution_count": 18,
   "metadata": {},
   "outputs": [
    {
     "data": {
      "text/html": [
       "<div>\n",
       "<style scoped>\n",
       "    .dataframe tbody tr th:only-of-type {\n",
       "        vertical-align: middle;\n",
       "    }\n",
       "\n",
       "    .dataframe tbody tr th {\n",
       "        vertical-align: top;\n",
       "    }\n",
       "\n",
       "    .dataframe thead th {\n",
       "        text-align: right;\n",
       "    }\n",
       "</style>\n",
       "<table border=\"1\" class=\"dataframe\">\n",
       "  <thead>\n",
       "    <tr style=\"text-align: right;\">\n",
       "      <th></th>\n",
       "      <th>SiteA</th>\n",
       "      <th>SiteB</th>\n",
       "      <th>SiteC</th>\n",
       "      <th>SiteD</th>\n",
       "      <th>SiteE</th>\n",
       "      <th>SiteF</th>\n",
       "    </tr>\n",
       "    <tr>\n",
       "      <th>Time</th>\n",
       "      <th></th>\n",
       "      <th></th>\n",
       "      <th></th>\n",
       "      <th></th>\n",
       "      <th></th>\n",
       "      <th></th>\n",
       "    </tr>\n",
       "  </thead>\n",
       "  <tbody>\n",
       "    <tr>\n",
       "      <th>2019-01-01 02:00:00</th>\n",
       "      <td>4.724311e+09</td>\n",
       "      <td>9.419182e+09</td>\n",
       "      <td>6.413882e+04</td>\n",
       "      <td>47729513.75</td>\n",
       "      <td>47515761.79</td>\n",
       "      <td>871565.3105</td>\n",
       "    </tr>\n",
       "    <tr>\n",
       "      <th>2019-01-01 03:00:00</th>\n",
       "      <td>4.031000e+09</td>\n",
       "      <td>8.216592e+09</td>\n",
       "      <td>4.036552e+07</td>\n",
       "      <td>58923296.12</td>\n",
       "      <td>11633975.46</td>\n",
       "      <td>886902.6908</td>\n",
       "    </tr>\n",
       "    <tr>\n",
       "      <th>2019-01-01 04:00:00</th>\n",
       "      <td>8.101920e+09</td>\n",
       "      <td>8.529913e+09</td>\n",
       "      <td>4.194376e+07</td>\n",
       "      <td>52267423.90</td>\n",
       "      <td>9186894.13</td>\n",
       "      <td>875737.4867</td>\n",
       "    </tr>\n",
       "    <tr>\n",
       "      <th>2019-01-01 05:00:00</th>\n",
       "      <td>7.529417e+09</td>\n",
       "      <td>8.250299e+09</td>\n",
       "      <td>4.499228e+04</td>\n",
       "      <td>54076247.79</td>\n",
       "      <td>55891811.65</td>\n",
       "      <td>875879.5356</td>\n",
       "    </tr>\n",
       "    <tr>\n",
       "      <th>2019-01-01 06:00:00</th>\n",
       "      <td>6.884695e+09</td>\n",
       "      <td>9.627317e+09</td>\n",
       "      <td>7.319010e+04</td>\n",
       "      <td>62661447.92</td>\n",
       "      <td>61523060.49</td>\n",
       "      <td>879444.7533</td>\n",
       "    </tr>\n",
       "  </tbody>\n",
       "</table>\n",
       "</div>"
      ],
      "text/plain": [
       "                            SiteA         SiteB         SiteC        SiteD  \\\n",
       "Time                                                                         \n",
       "2019-01-01 02:00:00  4.724311e+09  9.419182e+09  6.413882e+04  47729513.75   \n",
       "2019-01-01 03:00:00  4.031000e+09  8.216592e+09  4.036552e+07  58923296.12   \n",
       "2019-01-01 04:00:00  8.101920e+09  8.529913e+09  4.194376e+07  52267423.90   \n",
       "2019-01-01 05:00:00  7.529417e+09  8.250299e+09  4.499228e+04  54076247.79   \n",
       "2019-01-01 06:00:00  6.884695e+09  9.627317e+09  7.319010e+04  62661447.92   \n",
       "\n",
       "                           SiteE        SiteF  \n",
       "Time                                           \n",
       "2019-01-01 02:00:00  47515761.79  871565.3105  \n",
       "2019-01-01 03:00:00  11633975.46  886902.6908  \n",
       "2019-01-01 04:00:00   9186894.13  875737.4867  \n",
       "2019-01-01 05:00:00  55891811.65  875879.5356  \n",
       "2019-01-01 06:00:00  61523060.49  879444.7533  "
      ]
     },
     "execution_count": 18,
     "metadata": {},
     "output_type": "execute_result"
    }
   ],
   "source": [
    "df_train.tail()"
   ]
  },
  {
   "cell_type": "code",
   "execution_count": 17,
   "metadata": {},
   "outputs": [
    {
     "data": {
      "text/plain": [
       "array([[False, False,  True, False, False, False]])"
      ]
     },
     "execution_count": 17,
     "metadata": {},
     "output_type": "execute_result"
    }
   ],
   "source": [
    "forecast_input == df_test.values"
   ]
  },
  {
   "cell_type": "code",
   "execution_count": 18,
   "metadata": {},
   "outputs": [
    {
     "data": {
      "text/html": [
       "<div>\n",
       "<style scoped>\n",
       "    .dataframe tbody tr th:only-of-type {\n",
       "        vertical-align: middle;\n",
       "    }\n",
       "\n",
       "    .dataframe tbody tr th {\n",
       "        vertical-align: top;\n",
       "    }\n",
       "\n",
       "    .dataframe thead th {\n",
       "        text-align: right;\n",
       "    }\n",
       "</style>\n",
       "<table border=\"1\" class=\"dataframe\">\n",
       "  <thead>\n",
       "    <tr style=\"text-align: right;\">\n",
       "      <th></th>\n",
       "      <th>SiteA</th>\n",
       "      <th>SiteB</th>\n",
       "      <th>SiteC</th>\n",
       "      <th>SiteD</th>\n",
       "      <th>SiteE</th>\n",
       "      <th>SiteF</th>\n",
       "    </tr>\n",
       "    <tr>\n",
       "      <th>Time</th>\n",
       "      <th></th>\n",
       "      <th></th>\n",
       "      <th></th>\n",
       "      <th></th>\n",
       "      <th></th>\n",
       "      <th></th>\n",
       "    </tr>\n",
       "  </thead>\n",
       "  <tbody>\n",
       "    <tr>\n",
       "      <th>2019-01-01 07:00:00</th>\n",
       "      <td>7.546767e+09</td>\n",
       "      <td>9.795331e+09</td>\n",
       "      <td>2.600965e+07</td>\n",
       "      <td>6.448225e+07</td>\n",
       "      <td>6.392096e+07</td>\n",
       "      <td>1.032568e+06</td>\n",
       "    </tr>\n",
       "  </tbody>\n",
       "</table>\n",
       "</div>"
      ],
      "text/plain": [
       "                            SiteA         SiteB         SiteC         SiteD  \\\n",
       "Time                                                                          \n",
       "2019-01-01 07:00:00  7.546767e+09  9.795331e+09  2.600965e+07  6.448225e+07   \n",
       "\n",
       "                            SiteE         SiteF  \n",
       "Time                                             \n",
       "2019-01-01 07:00:00  6.392096e+07  1.032568e+06  "
      ]
     },
     "execution_count": 18,
     "metadata": {},
     "output_type": "execute_result"
    }
   ],
   "source": [
    "# Forecast\n",
    "fc = model_fit.forecast(y=forecast_input, steps=nobs)\n",
    "df_forecast = pd.DataFrame(fc, index=df.index[-nobs:], columns=df.columns)\n",
    "df_forecast "
   ]
  },
  {
   "cell_type": "code",
   "execution_count": 19,
   "metadata": {},
   "outputs": [
    {
     "name": "stdout",
     "output_type": "stream",
     "text": [
      "{'SiteA RMSE': 1128807727.8593187, 'SiteB RMSE': 2484787615.5402966, 'SiteC RMSE': 25936459.75449342, 'SiteD RMSE': 8183503.121821545, 'SiteE RMSE': 52947582.644412406, 'SiteF RMSE': 124809.94446083612}\n"
     ]
    }
   ],
   "source": [
    "result = dict()\n",
    "# check rmse \n",
    "for i in df.columns: \n",
    "    result[f'{i} RMSE'] = np.sqrt(mean_squared_error(df_forecast[i], df_test[i]))\n",
    "    # print('rmse value for', i, 'is : ', np.sqrt(mean_squared_error(df_forecast[i], df_test[i])))\n",
    "print(result) "
   ]
  },
  {
   "cell_type": "code",
   "execution_count": 20,
   "metadata": {},
   "outputs": [
    {
     "name": "stdout",
     "output_type": "stream",
     "text": [
      "(150, 6)\n"
     ]
    }
   ],
   "source": [
    "# make final predictions\n",
    "model = VAR(df)\n",
    "model_fit = model.fit() \n",
    "yhat = model_fit.forecast(model_fit.y, steps=150)\n",
    "print(yhat.shape)  "
   ]
  },
  {
   "cell_type": "code",
   "execution_count": 21,
   "metadata": {},
   "outputs": [
    {
     "data": {
      "text/plain": [
       "150"
      ]
     },
     "execution_count": 21,
     "metadata": {},
     "output_type": "execute_result"
    }
   ],
   "source": [
    "len(yhat)"
   ]
  },
  {
   "cell_type": "code",
   "execution_count": 22,
   "metadata": {},
   "outputs": [],
   "source": [
    "def forecast_to_df(data, forecast):\n",
    "    ''' Convert forecast output array to dataframe using input data columns\n",
    "    and last index '''\n",
    "    date = data[-1:].index \n",
    "    future_date = []\n",
    "    for i in range(len(forecast)): \n",
    "        date += timedelta(hours=1)\n",
    "        future_date.append(date)\n",
    "    yhat_df = pd.DataFrame(yhat, columns=data.columns, index=list(map(list, zip(*future_date))))\n",
    "    # convert index values to datetime \n",
    "    idx = yhat_df.index.get_level_values(0).astype(str) \n",
    "    yhat_df.index = pd.to_datetime(idx)\n",
    "    yhat_df.index.rename('Time', inplace=True)\n",
    "    \n",
    "    return yhat_df "
   ]
  },
  {
   "cell_type": "code",
   "execution_count": 23,
   "metadata": {},
   "outputs": [
    {
     "data": {
      "text/html": [
       "<div>\n",
       "<style scoped>\n",
       "    .dataframe tbody tr th:only-of-type {\n",
       "        vertical-align: middle;\n",
       "    }\n",
       "\n",
       "    .dataframe tbody tr th {\n",
       "        vertical-align: top;\n",
       "    }\n",
       "\n",
       "    .dataframe thead th {\n",
       "        text-align: right;\n",
       "    }\n",
       "</style>\n",
       "<table border=\"1\" class=\"dataframe\">\n",
       "  <thead>\n",
       "    <tr style=\"text-align: right;\">\n",
       "      <th></th>\n",
       "      <th>SiteA</th>\n",
       "      <th>SiteB</th>\n",
       "      <th>SiteC</th>\n",
       "      <th>SiteD</th>\n",
       "      <th>SiteE</th>\n",
       "      <th>SiteF</th>\n",
       "    </tr>\n",
       "    <tr>\n",
       "      <th>Time</th>\n",
       "      <th></th>\n",
       "      <th></th>\n",
       "      <th></th>\n",
       "      <th></th>\n",
       "      <th></th>\n",
       "      <th></th>\n",
       "    </tr>\n",
       "  </thead>\n",
       "  <tbody>\n",
       "    <tr>\n",
       "      <th>2019-01-01 08:00:00</th>\n",
       "      <td>9.067830e+09</td>\n",
       "      <td>1.231458e+10</td>\n",
       "      <td>2.528002e+07</td>\n",
       "      <td>5.850849e+07</td>\n",
       "      <td>1.786575e+07</td>\n",
       "      <td>1.031200e+06</td>\n",
       "    </tr>\n",
       "    <tr>\n",
       "      <th>2019-01-01 09:00:00</th>\n",
       "      <td>9.415124e+09</td>\n",
       "      <td>1.226698e+10</td>\n",
       "      <td>2.248078e+07</td>\n",
       "      <td>6.105517e+07</td>\n",
       "      <td>2.465994e+07</td>\n",
       "      <td>1.088993e+06</td>\n",
       "    </tr>\n",
       "    <tr>\n",
       "      <th>2019-01-01 10:00:00</th>\n",
       "      <td>9.714108e+09</td>\n",
       "      <td>1.221955e+10</td>\n",
       "      <td>2.300308e+07</td>\n",
       "      <td>6.309254e+07</td>\n",
       "      <td>3.062072e+07</td>\n",
       "      <td>1.120930e+06</td>\n",
       "    </tr>\n",
       "    <tr>\n",
       "      <th>2019-01-01 11:00:00</th>\n",
       "      <td>9.969166e+09</td>\n",
       "      <td>1.216593e+10</td>\n",
       "      <td>2.309472e+07</td>\n",
       "      <td>6.482043e+07</td>\n",
       "      <td>3.592854e+07</td>\n",
       "      <td>1.138904e+06</td>\n",
       "    </tr>\n",
       "    <tr>\n",
       "      <th>2019-01-01 12:00:00</th>\n",
       "      <td>1.018543e+10</td>\n",
       "      <td>1.210918e+10</td>\n",
       "      <td>2.321467e+07</td>\n",
       "      <td>6.628496e+07</td>\n",
       "      <td>4.064724e+07</td>\n",
       "      <td>1.149802e+06</td>\n",
       "    </tr>\n",
       "  </tbody>\n",
       "</table>\n",
       "</div>"
      ],
      "text/plain": [
       "                            SiteA         SiteB         SiteC         SiteD  \\\n",
       "Time                                                                          \n",
       "2019-01-01 08:00:00  9.067830e+09  1.231458e+10  2.528002e+07  5.850849e+07   \n",
       "2019-01-01 09:00:00  9.415124e+09  1.226698e+10  2.248078e+07  6.105517e+07   \n",
       "2019-01-01 10:00:00  9.714108e+09  1.221955e+10  2.300308e+07  6.309254e+07   \n",
       "2019-01-01 11:00:00  9.969166e+09  1.216593e+10  2.309472e+07  6.482043e+07   \n",
       "2019-01-01 12:00:00  1.018543e+10  1.210918e+10  2.321467e+07  6.628496e+07   \n",
       "\n",
       "                            SiteE         SiteF  \n",
       "Time                                             \n",
       "2019-01-01 08:00:00  1.786575e+07  1.031200e+06  \n",
       "2019-01-01 09:00:00  2.465994e+07  1.088993e+06  \n",
       "2019-01-01 10:00:00  3.062072e+07  1.120930e+06  \n",
       "2019-01-01 11:00:00  3.592854e+07  1.138904e+06  \n",
       "2019-01-01 12:00:00  4.064724e+07  1.149802e+06  "
      ]
     },
     "execution_count": 23,
     "metadata": {},
     "output_type": "execute_result"
    }
   ],
   "source": [
    "yhat_df = forecast_to_df(df, yhat)\n",
    "yhat_df.head()"
   ]
  },
  {
   "cell_type": "code",
   "execution_count": 24,
   "metadata": {},
   "outputs": [],
   "source": [
    "forecast_df = yhat_df.copy()\n",
    "forecast_df.reset_index(level=0, inplace=True)\n",
    "# forecast_df.style.hide_index() "
   ]
  },
  {
   "cell_type": "code",
   "execution_count": 25,
   "metadata": {},
   "outputs": [
    {
     "data": {
      "text/plain": [
       "(150, 6)"
      ]
     },
     "execution_count": 25,
     "metadata": {},
     "output_type": "execute_result"
    }
   ],
   "source": [
    "yhat_df.shape "
   ]
  },
  {
   "cell_type": "code",
   "execution_count": 26,
   "metadata": {},
   "outputs": [],
   "source": [
    "def make_plot(df1, df2, names):\n",
    "    fig = make_subplots(rows=6, cols=1, subplot_titles=df1.columns,\n",
    "                        vertical_spacing=0.05)\n",
    "\n",
    "    for i, col in enumerate(df.columns):\n",
    "        fig.add_trace(go.Scatter(name=names[0], x=df1.index, y=df1[col],  \n",
    "                                marker = dict(size = 10, \n",
    "                                            color = 'blue'),\n",
    "                                textfont=dict(\n",
    "                                    color='black',\n",
    "                                    size=18,  \n",
    "                                    family='Times New Roman')),\n",
    "                    row=i+1, col=1)\n",
    "        fig.add_trace(go.Scatter(name=names[1], x=df2.index, y=df2[col],  \n",
    "                                marker = dict(size = 10, \n",
    "                                            color = 'red')),\n",
    "                    row=i+1, col=1) \n",
    "        \n",
    "    fig.update_xaxes(\n",
    "        rangeselector=dict(\n",
    "            buttons=list([\n",
    "                dict(count=1, label=\"1m\", step=\"month\", stepmode=\"backward\"),\n",
    "                dict(count=6, label=\"6m\", step=\"month\", stepmode=\"backward\"),\n",
    "                dict(count=1, label=\"YTD\", step=\"year\", stepmode=\"todate\"),\n",
    "                dict(count=1, label=\"1y\", step=\"year\", stepmode=\"backward\"),\n",
    "                dict(step=\"all\")\n",
    "            ])\n",
    "        )\n",
    "    )\n",
    "    fig.update_layout(autosize=False,\n",
    "        width=1300,\n",
    "        height=1500,\n",
    "        )\n",
    "    fig.update_layout(legend=dict(\n",
    "        orientation=\"h\",\n",
    "        yanchor=\"bottom\",\n",
    "        y=1.02,\n",
    "        xanchor=\"right\",\n",
    "        x=1\n",
    "    ))\n",
    "    names = set()\n",
    "    fig.for_each_trace(\n",
    "        lambda trace:\n",
    "            trace.update(showlegend=False)\n",
    "            if (trace.name in names) else names.add(trace.name))\n",
    "\n",
    "    fig.show() "
   ]
  },
  {
   "cell_type": "code",
   "execution_count": 2,
   "metadata": {},
   "outputs": [],
   "source": [
    "# make_plot(df, yhat_df, ['actual', 'forecast'])"
   ]
  },
  {
   "cell_type": "code",
   "execution_count": 1,
   "metadata": {},
   "outputs": [],
   "source": [
    "# c = 1\n",
    "# fig = plt.figure(figsize=(20,15))\n",
    "# for col in df.columns:\n",
    "#     plt.subplot(3, 2, c)\n",
    "#     plt.title(f'{col}', size=15)\n",
    "#     plt.tight_layout()\n",
    "#     # plt.plot(df[8700:][col])\n",
    "#     plt.plot(df_test[col], label='actual')\n",
    "#     plt.plot(df_forecast[col], label='forecast')\n",
    "#     plt.legend()\n",
    "#     c += 1\n",
    "# plt.show() "
   ]
  },
  {
   "cell_type": "markdown",
   "metadata": {},
   "source": [
    "### LSTM"
   ]
  },
  {
   "cell_type": "code",
   "execution_count": null,
   "metadata": {},
   "outputs": [],
   "source": []
  },
  {
   "cell_type": "code",
   "execution_count": 27,
   "metadata": {},
   "outputs": [],
   "source": [
    "# https://machinelearningmastery.com/multivariate-time-series-forecasting-lstms-keras/\n",
    "def series_to_supervised(data, n_in=1, n_out=1, dropnan=True):\n",
    "\t\"\"\"\n",
    "\tFrame a time series as a supervised learning dataset.\n",
    "\tArguments:\n",
    "\t\tdata: Sequence of observations as a list or NumPy array.\n",
    "\t\tn_in: Number of lag observations as input (X).\n",
    "\t\tn_out: Number of observations as output (y).\n",
    "\t\tdropnan: Boolean whether or not to drop rows with NaN values.\n",
    "\tReturns:\n",
    "\t\tPandas DataFrame of series framed for supervised learning.\n",
    "\t\"\"\"\n",
    "\tn_vars = 1 if type(data) is list else data.shape[1]\n",
    "\tdf = pd.DataFrame(data)\n",
    "\tcols, names = list(), list()\n",
    "\t# input sequence (t-n, ... t-1)\n",
    "\tfor i in range(n_in, 0, -1):\n",
    "\t\tcols.append(df.shift(i))\n",
    "\t\tnames += [('var%d(t-%d)' % (j+1, i)) for j in range(n_vars)]\n",
    "\t# forecast sequence (t, t+1, ... t+n)\n",
    "\tfor i in range(0, n_out):\n",
    "\t\tcols.append(df.shift(-i))\n",
    "\t\tif i == 0:\n",
    "\t\t\tnames += [('var%d(t)' % (j+1)) for j in range(n_vars)]\n",
    "\t\telse:\n",
    "\t\t\tnames += [('var%d(t+%d)' % (j+1, i)) for j in range(n_vars)]\n",
    "\t# put it all together\n",
    "\tagg = pd.concat(cols, axis=1)\n",
    "\tagg.columns = names\n",
    "\t# drop rows with NaN values\n",
    "\tif dropnan:\n",
    "\t\tagg.dropna(inplace=True)\n",
    "\treturn agg "
   ]
  },
  {
   "cell_type": "code",
   "execution_count": 28,
   "metadata": {},
   "outputs": [
    {
     "data": {
      "text/html": [
       "<div>\n",
       "<style scoped>\n",
       "    .dataframe tbody tr th:only-of-type {\n",
       "        vertical-align: middle;\n",
       "    }\n",
       "\n",
       "    .dataframe tbody tr th {\n",
       "        vertical-align: top;\n",
       "    }\n",
       "\n",
       "    .dataframe thead th {\n",
       "        text-align: right;\n",
       "    }\n",
       "</style>\n",
       "<table border=\"1\" class=\"dataframe\">\n",
       "  <thead>\n",
       "    <tr style=\"text-align: right;\">\n",
       "      <th></th>\n",
       "      <th>var1(t-1)</th>\n",
       "      <th>var2(t-1)</th>\n",
       "      <th>var3(t-1)</th>\n",
       "      <th>var4(t-1)</th>\n",
       "      <th>var5(t-1)</th>\n",
       "      <th>var6(t-1)</th>\n",
       "      <th>var1(t)</th>\n",
       "      <th>var2(t)</th>\n",
       "      <th>var3(t)</th>\n",
       "      <th>var4(t)</th>\n",
       "      <th>var5(t)</th>\n",
       "      <th>var6(t)</th>\n",
       "    </tr>\n",
       "  </thead>\n",
       "  <tbody>\n",
       "    <tr>\n",
       "      <th>1</th>\n",
       "      <td>0.183318</td>\n",
       "      <td>0.021212</td>\n",
       "      <td>0.329815</td>\n",
       "      <td>0.155905</td>\n",
       "      <td>0.007080</td>\n",
       "      <td>0.017119</td>\n",
       "      <td>0.174579</td>\n",
       "      <td>0.023756</td>\n",
       "      <td>0.000134</td>\n",
       "      <td>0.135429</td>\n",
       "      <td>0.004478</td>\n",
       "      <td>0.020384</td>\n",
       "    </tr>\n",
       "    <tr>\n",
       "      <th>2</th>\n",
       "      <td>0.174579</td>\n",
       "      <td>0.023756</td>\n",
       "      <td>0.000134</td>\n",
       "      <td>0.135429</td>\n",
       "      <td>0.004478</td>\n",
       "      <td>0.020384</td>\n",
       "      <td>0.157498</td>\n",
       "      <td>0.038367</td>\n",
       "      <td>0.000131</td>\n",
       "      <td>0.156445</td>\n",
       "      <td>0.032509</td>\n",
       "      <td>0.018914</td>\n",
       "    </tr>\n",
       "    <tr>\n",
       "      <th>3</th>\n",
       "      <td>0.157498</td>\n",
       "      <td>0.038367</td>\n",
       "      <td>0.000131</td>\n",
       "      <td>0.156445</td>\n",
       "      <td>0.032509</td>\n",
       "      <td>0.018914</td>\n",
       "      <td>0.145031</td>\n",
       "      <td>0.020522</td>\n",
       "      <td>0.329310</td>\n",
       "      <td>0.128006</td>\n",
       "      <td>0.003305</td>\n",
       "      <td>0.017494</td>\n",
       "    </tr>\n",
       "    <tr>\n",
       "      <th>4</th>\n",
       "      <td>0.145031</td>\n",
       "      <td>0.020522</td>\n",
       "      <td>0.329310</td>\n",
       "      <td>0.128006</td>\n",
       "      <td>0.003305</td>\n",
       "      <td>0.017494</td>\n",
       "      <td>0.139044</td>\n",
       "      <td>0.016532</td>\n",
       "      <td>0.000093</td>\n",
       "      <td>0.084286</td>\n",
       "      <td>0.004747</td>\n",
       "      <td>0.017108</td>\n",
       "    </tr>\n",
       "    <tr>\n",
       "      <th>5</th>\n",
       "      <td>0.139044</td>\n",
       "      <td>0.016532</td>\n",
       "      <td>0.000093</td>\n",
       "      <td>0.084286</td>\n",
       "      <td>0.004747</td>\n",
       "      <td>0.017108</td>\n",
       "      <td>0.138376</td>\n",
       "      <td>0.040076</td>\n",
       "      <td>0.000687</td>\n",
       "      <td>0.135176</td>\n",
       "      <td>0.003450</td>\n",
       "      <td>0.017347</td>\n",
       "    </tr>\n",
       "    <tr>\n",
       "      <th>...</th>\n",
       "      <td>...</td>\n",
       "      <td>...</td>\n",
       "      <td>...</td>\n",
       "      <td>...</td>\n",
       "      <td>...</td>\n",
       "      <td>...</td>\n",
       "      <td>...</td>\n",
       "      <td>...</td>\n",
       "      <td>...</td>\n",
       "      <td>...</td>\n",
       "      <td>...</td>\n",
       "      <td>...</td>\n",
       "    </tr>\n",
       "    <tr>\n",
       "      <th>8755</th>\n",
       "      <td>0.058520</td>\n",
       "      <td>0.180123</td>\n",
       "      <td>0.000215</td>\n",
       "      <td>0.131029</td>\n",
       "      <td>0.030094</td>\n",
       "      <td>0.018803</td>\n",
       "      <td>0.049302</td>\n",
       "      <td>0.157126</td>\n",
       "      <td>0.160575</td>\n",
       "      <td>0.162244</td>\n",
       "      <td>0.007368</td>\n",
       "      <td>0.019388</td>\n",
       "    </tr>\n",
       "    <tr>\n",
       "      <th>8756</th>\n",
       "      <td>0.049302</td>\n",
       "      <td>0.157126</td>\n",
       "      <td>0.160575</td>\n",
       "      <td>0.162244</td>\n",
       "      <td>0.007368</td>\n",
       "      <td>0.019388</td>\n",
       "      <td>0.103426</td>\n",
       "      <td>0.163118</td>\n",
       "      <td>0.166855</td>\n",
       "      <td>0.143684</td>\n",
       "      <td>0.005819</td>\n",
       "      <td>0.018962</td>\n",
       "    </tr>\n",
       "    <tr>\n",
       "      <th>8757</th>\n",
       "      <td>0.103426</td>\n",
       "      <td>0.163118</td>\n",
       "      <td>0.166855</td>\n",
       "      <td>0.143684</td>\n",
       "      <td>0.005819</td>\n",
       "      <td>0.018962</td>\n",
       "      <td>0.095815</td>\n",
       "      <td>0.157771</td>\n",
       "      <td>0.000139</td>\n",
       "      <td>0.148728</td>\n",
       "      <td>0.035399</td>\n",
       "      <td>0.018967</td>\n",
       "    </tr>\n",
       "    <tr>\n",
       "      <th>8758</th>\n",
       "      <td>0.095815</td>\n",
       "      <td>0.157771</td>\n",
       "      <td>0.000139</td>\n",
       "      <td>0.148728</td>\n",
       "      <td>0.035399</td>\n",
       "      <td>0.018967</td>\n",
       "      <td>0.087243</td>\n",
       "      <td>0.184103</td>\n",
       "      <td>0.000251</td>\n",
       "      <td>0.172668</td>\n",
       "      <td>0.038966</td>\n",
       "      <td>0.019103</td>\n",
       "    </tr>\n",
       "    <tr>\n",
       "      <th>8759</th>\n",
       "      <td>0.087243</td>\n",
       "      <td>0.184103</td>\n",
       "      <td>0.000251</td>\n",
       "      <td>0.172668</td>\n",
       "      <td>0.038966</td>\n",
       "      <td>0.019103</td>\n",
       "      <td>0.111053</td>\n",
       "      <td>0.234833</td>\n",
       "      <td>0.000251</td>\n",
       "      <td>0.154925</td>\n",
       "      <td>0.006950</td>\n",
       "      <td>0.020183</td>\n",
       "    </tr>\n",
       "  </tbody>\n",
       "</table>\n",
       "<p>8759 rows × 12 columns</p>\n",
       "</div>"
      ],
      "text/plain": [
       "      var1(t-1)  var2(t-1)  var3(t-1)  var4(t-1)  var5(t-1)  var6(t-1)  \\\n",
       "1      0.183318   0.021212   0.329815   0.155905   0.007080   0.017119   \n",
       "2      0.174579   0.023756   0.000134   0.135429   0.004478   0.020384   \n",
       "3      0.157498   0.038367   0.000131   0.156445   0.032509   0.018914   \n",
       "4      0.145031   0.020522   0.329310   0.128006   0.003305   0.017494   \n",
       "5      0.139044   0.016532   0.000093   0.084286   0.004747   0.017108   \n",
       "...         ...        ...        ...        ...        ...        ...   \n",
       "8755   0.058520   0.180123   0.000215   0.131029   0.030094   0.018803   \n",
       "8756   0.049302   0.157126   0.160575   0.162244   0.007368   0.019388   \n",
       "8757   0.103426   0.163118   0.166855   0.143684   0.005819   0.018962   \n",
       "8758   0.095815   0.157771   0.000139   0.148728   0.035399   0.018967   \n",
       "8759   0.087243   0.184103   0.000251   0.172668   0.038966   0.019103   \n",
       "\n",
       "       var1(t)   var2(t)   var3(t)   var4(t)   var5(t)   var6(t)  \n",
       "1     0.174579  0.023756  0.000134  0.135429  0.004478  0.020384  \n",
       "2     0.157498  0.038367  0.000131  0.156445  0.032509  0.018914  \n",
       "3     0.145031  0.020522  0.329310  0.128006  0.003305  0.017494  \n",
       "4     0.139044  0.016532  0.000093  0.084286  0.004747  0.017108  \n",
       "5     0.138376  0.040076  0.000687  0.135176  0.003450  0.017347  \n",
       "...        ...       ...       ...       ...       ...       ...  \n",
       "8755  0.049302  0.157126  0.160575  0.162244  0.007368  0.019388  \n",
       "8756  0.103426  0.163118  0.166855  0.143684  0.005819  0.018962  \n",
       "8757  0.095815  0.157771  0.000139  0.148728  0.035399  0.018967  \n",
       "8758  0.087243  0.184103  0.000251  0.172668  0.038966  0.019103  \n",
       "8759  0.111053  0.234833  0.000251  0.154925  0.006950  0.020183  \n",
       "\n",
       "[8759 rows x 12 columns]"
      ]
     },
     "execution_count": 28,
     "metadata": {},
     "output_type": "execute_result"
    }
   ],
   "source": [
    "# normalize features\n",
    "scaler = MinMaxScaler(feature_range=(0, 1))\n",
    "scaled = scaler.fit_transform(df.values)\n",
    "df_reframed = series_to_supervised(scaled) \n",
    "df_reframed "
   ]
  },
  {
   "cell_type": "code",
   "execution_count": 29,
   "metadata": {},
   "outputs": [
    {
     "data": {
      "text/plain": [
       "Index(['var1(t-1)', 'var2(t-1)', 'var3(t-1)', 'var4(t-1)', 'var5(t-1)',\n",
       "       'var6(t-1)', 'var1(t)', 'var2(t)', 'var3(t)', 'var4(t)', 'var5(t)',\n",
       "       'var6(t)'],\n",
       "      dtype='object')"
      ]
     },
     "execution_count": 29,
     "metadata": {},
     "output_type": "execute_result"
    }
   ],
   "source": [
    "df_reframed.columns "
   ]
  },
  {
   "cell_type": "code",
   "execution_count": 30,
   "metadata": {},
   "outputs": [
    {
     "name": "stdout",
     "output_type": "stream",
     "text": [
      "(7200, 1, 6) (7200, 6) (1559, 1, 6) (1559, 6)\n"
     ]
    }
   ],
   "source": [
    "# split into train and test sets\n",
    "values = df_reframed.values\n",
    "n_train_hours = 300 * 24 # first 300 days for train \n",
    "train = values[:n_train_hours, :]\n",
    "test = values[n_train_hours:, :]\n",
    "# split into input and outputs\n",
    "train_X, train_y = train[:, :-6], train[:, -6:]\n",
    "test_X, test_y = test[:, :-6], test[:, -6:] \n",
    "# reshape input to be 3D [samples, timesteps, features]\n",
    "train_X = train_X.reshape((train_X.shape[0], 1, train_X.shape[1]))\n",
    "test_X = test_X.reshape((test_X.shape[0], 1, test_X.shape[1]))\n",
    "print(train_X.shape, train_y.shape, test_X.shape, test_y.shape) "
   ]
  },
  {
   "cell_type": "code",
   "execution_count": 31,
   "metadata": {},
   "outputs": [
    {
     "name": "stdout",
     "output_type": "stream",
     "text": [
      "8759\n",
      "8759\n"
     ]
    }
   ],
   "source": [
    "print(df_reframed.shape[0])\n",
    "print(train_X.shape[0] + test_X.shape[0]) "
   ]
  },
  {
   "cell_type": "code",
   "execution_count": 3,
   "metadata": {},
   "outputs": [],
   "source": [
    "# make_plot(df.iloc[:n_train_hours, :], df.iloc[n_train_hours:, :], 'Training set', 'Test set')"
   ]
  },
  {
   "cell_type": "code",
   "execution_count": 37,
   "metadata": {},
   "outputs": [
    {
     "name": "stdout",
     "output_type": "stream",
     "text": [
      "Model: \"sequential_1\"\n",
      "_________________________________________________________________\n",
      "Layer (type)                 Output Shape              Param #   \n",
      "=================================================================\n",
      "lstm_2 (LSTM)                (None, 1, 200)            165600    \n",
      "_________________________________________________________________\n",
      "dense_4 (Dense)              (None, 1, 20)             4020      \n",
      "_________________________________________________________________\n",
      "lstm_3 (LSTM)                (None, 150)               102600    \n",
      "_________________________________________________________________\n",
      "dense_5 (Dense)              (None, 20)                3020      \n",
      "_________________________________________________________________\n",
      "dense_6 (Dense)              (None, 20)                420       \n",
      "_________________________________________________________________\n",
      "dropout_1 (Dropout)          (None, 20)                0         \n",
      "_________________________________________________________________\n",
      "dense_7 (Dense)              (None, 6)                 126       \n",
      "=================================================================\n",
      "Total params: 275,786\n",
      "Trainable params: 275,786\n",
      "Non-trainable params: 0\n",
      "_________________________________________________________________\n"
     ]
    }
   ],
   "source": [
    "# design network \n",
    "lstm_model = tf.keras.models.Sequential([\n",
    "tf.keras.layers.LSTM(200, return_sequences=True, \n",
    "                            input_shape=(train_X.shape[1], train_X.shape[2])),\n",
    "    tf.keras.layers.Dense(20, activation='tanh'),\n",
    "    tf.keras.layers.LSTM(150),\n",
    "    tf.keras.layers.Dense(20, activation='tanh'),\n",
    "    tf.keras.layers.Dense(20, activation='tanh'),\n",
    "    tf.keras.layers.Dropout(0.25),\n",
    "    tf.keras.layers.Dense(6)\n",
    "])\n",
    "lstm_model.compile(optimizer='adam', loss='mae')\n",
    "lstm_model.summary() "
   ]
  },
  {
   "cell_type": "code",
   "execution_count": 38,
   "metadata": {},
   "outputs": [],
   "source": [
    "model_path = 'models/LSTM.h5'\n",
    "early_stopings = tf.keras.callbacks.EarlyStopping(monitor='val_loss', min_delta=0, patience=10, verbose=1, mode='min')\n",
    "checkpoint = tf.keras.callbacks.ModelCheckpoint(model_path, monitor='val_loss', save_best_only=True, mode='min', verbose=0)\n",
    "callbacks = [early_stopings,checkpoint] "
   ]
  },
  {
   "cell_type": "code",
   "execution_count": 39,
   "metadata": {},
   "outputs": [
    {
     "name": "stderr",
     "output_type": "stream",
     "text": [
      "2021-12-17 19:51:46.944643: I tensorflow/compiler/mlir/mlir_graph_optimization_pass.cc:185] None of the MLIR Optimization Passes are enabled (registered 2)\n"
     ]
    },
    {
     "name": "stdout",
     "output_type": "stream",
     "text": [
      "Epoch 1/20\n",
      "100/100 - 8s - loss: 0.0812 - val_loss: 0.0544\n",
      "Epoch 2/20\n",
      "100/100 - 1s - loss: 0.0698 - val_loss: 0.0513\n",
      "Epoch 3/20\n",
      "100/100 - 2s - loss: 0.0658 - val_loss: 0.0445\n",
      "Epoch 4/20\n",
      "100/100 - 1s - loss: 0.0610 - val_loss: 0.0374\n",
      "Epoch 5/20\n",
      "100/100 - 2s - loss: 0.0561 - val_loss: 0.0343\n",
      "Epoch 6/20\n",
      "100/100 - 2s - loss: 0.0542 - val_loss: 0.0329\n",
      "Epoch 7/20\n",
      "100/100 - 2s - loss: 0.0537 - val_loss: 0.0327\n",
      "Epoch 8/20\n",
      "100/100 - 2s - loss: 0.0530 - val_loss: 0.0337\n",
      "Epoch 9/20\n",
      "100/100 - 2s - loss: 0.0527 - val_loss: 0.0327\n",
      "Epoch 10/20\n",
      "100/100 - 2s - loss: 0.0525 - val_loss: 0.0330\n",
      "Epoch 11/20\n",
      "100/100 - 2s - loss: 0.0523 - val_loss: 0.0342\n",
      "Epoch 12/20\n",
      "100/100 - 2s - loss: 0.0521 - val_loss: 0.0325\n",
      "Epoch 13/20\n",
      "100/100 - 2s - loss: 0.0519 - val_loss: 0.0336\n",
      "Epoch 14/20\n",
      "100/100 - 2s - loss: 0.0517 - val_loss: 0.0337\n",
      "Epoch 15/20\n",
      "100/100 - 2s - loss: 0.0517 - val_loss: 0.0329\n",
      "Epoch 16/20\n",
      "100/100 - 2s - loss: 0.0517 - val_loss: 0.0331\n",
      "Epoch 17/20\n",
      "100/100 - 2s - loss: 0.0514 - val_loss: 0.0327\n",
      "Epoch 18/20\n",
      "100/100 - 2s - loss: 0.0511 - val_loss: 0.0321\n",
      "Epoch 19/20\n",
      "100/100 - 2s - loss: 0.0510 - val_loss: 0.0322\n",
      "Epoch 20/20\n",
      "100/100 - 2s - loss: 0.0507 - val_loss: 0.0324\n"
     ]
    }
   ],
   "source": [
    "# fit network\n",
    "history = lstm_model.fit(train_X, train_y, epochs=20, batch_size=72, \n",
    "                         validation_data=(test_X, test_y), verbose=2, \n",
    "                         shuffle=False, callbacks=callbacks) "
   ]
  },
  {
   "cell_type": "code",
   "execution_count": 40,
   "metadata": {},
   "outputs": [
    {
     "data": {
      "image/png": "[encoded data removed]",
      "text/plain": [
       "<Figure size 1440x432 with 1 Axes>"
      ]
     },
     "metadata": {},
     "output_type": "display_data"
    }
   ],
   "source": [
    "# plot history\n",
    "plt.plot(history.history['loss'], label='train')\n",
    "plt.plot(history.history['val_loss'], label='test')\n",
    "plt.legend()\n",
    "plt.show() "
   ]
  },
  {
   "cell_type": "code",
   "execution_count": 41,
   "metadata": {},
   "outputs": [],
   "source": [
    "# make a prediction\n",
    "yhat = lstm_model.predict(test_X)"
   ]
  },
  {
   "cell_type": "code",
   "execution_count": 42,
   "metadata": {},
   "outputs": [
    {
     "name": "stdout",
     "output_type": "stream",
     "text": [
      "{'SiteA RMSE': 4022805930.458, 'SiteB RMSE': 3037870523.088, 'SiteC RMSE': 23378984.05, 'SiteD RMSE': 16939930.83, 'SiteE RMSE': 37644258.228, 'SiteF RMSE': 617504.738}\n"
     ]
    }
   ],
   "source": [
    "# invert scaling for forecast and actual \n",
    "inv_yhat = scaler.inverse_transform(yhat)\n",
    "inv_y = scaler.inverse_transform(test_y)\n",
    "# calculate RMSE\n",
    "result_lstm = dict()\n",
    "for i, col in enumerate(df.columns):\n",
    "    result_lstm[f'{col} RMSE'] = np.sqrt(mean_squared_error(inv_y[:, i], inv_yhat[:, i])).round(3)\n",
    "print(result_lstm) "
   ]
  },
  {
   "cell_type": "code",
   "execution_count": 1,
   "metadata": {},
   "outputs": [],
   "source": [
    "# c = 1\n",
    "# fig = plt.figure(figsize=(20,15))\n",
    "# for i, col in enumerate(df.columns):\n",
    "#     plt.subplot(3, 2, c)\n",
    "#     plt.title(f'{col}', size=15)\n",
    "#     plt.tight_layout()\n",
    "#     # plt.plot(df[8700:][col])\n",
    "#     plt.plot(inv_yhat[:, i], label='forecast')\n",
    "#     plt.plot(inv_y[:, i], label='actual')\n",
    "#     plt.legend()\n",
    "#     c += 1\n",
    "# plt.show() "
   ]
  }
 ],
 "metadata": {
  "interpreter": {
   "hash": "ee89bb07d3fa5f9c0a8bd127b3056783b076f56308f3ae1a55a1b4c1c97796ac"
  },
  "kernelspec": {
   "display_name": "Python 3.8.8 64-bit ('base': conda)",
   "language": "python",
   "name": "python3"
  },
  "language_info": {
   "codemirror_mode": {
    "name": "ipython",
    "version": 3
   },
   "file_extension": ".py",
   "mimetype": "text/x-python",
   "name": "python",
   "nbconvert_exporter": "python",
   "pygments_lexer": "ipython3",
   "version": "3.8.8"
  },
  "orig_nbformat": 4
 },
 "nbformat": 4,
 "nbformat_minor": 2
}
